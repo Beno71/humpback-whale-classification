{
 "cells": [
  {
   "cell_type": "markdown",
   "metadata": {},
   "source": [
    "# whale back challenge, data wrangling, tensorflow models"
   ]
  },
  {
   "cell_type": "code",
   "execution_count": 2,
   "metadata": {},
   "outputs": [
    {
     "data": {
      "text/html": [
       "<style>.rendered_html { font-size: 18px; }</style>"
      ],
      "text/plain": [
       "<IPython.core.display.HTML object>"
      ]
     },
     "metadata": {},
     "output_type": "display_data"
    }
   ],
   "source": [
    "from IPython.core.display import display, HTML\n",
    "display(HTML(\"<style>.rendered_html { font-size: 18px; }</style>\"))"
   ]
  },
  {
   "cell_type": "code",
   "execution_count": 3,
   "metadata": {},
   "outputs": [],
   "source": [
    "import numpy as np\n",
    "import matplotlib.pyplot as plt\n",
    "import tensorflow as tf\n",
    "import pandas as pd\n",
    "import os\n",
    "from skimage import io, transform\n",
    "import skimage\n",
    "import glob\n",
    "from tqdm import tnrange, tqdm\n",
    "from collections import Counter\n",
    "from random import shuffle\n",
    "from sklearn.preprocessing import OneHotEncoder\n",
    "from IPython.display import clear_output\n",
    "\n",
    "%matplotlib inline"
   ]
  },
  {
   "cell_type": "code",
   "execution_count": 4,
   "metadata": {},
   "outputs": [],
   "source": [
    "# some prep steps\n",
    "data_folder = \"data/\""
   ]
  },
  {
   "cell_type": "code",
   "execution_count": 5,
   "metadata": {},
   "outputs": [],
   "source": [
    "#load .npz-file from folder\n",
    "\n",
    "\n",
    "\n",
    "loader = np.load(data_folder+\"humpback_300x100_gray_no_new.npz\")\n",
    "features = loader[\"features\"]\n",
    "labels = loader[\"labels\"]\n",
    "n_rows = labels.shape[0]\n",
    "\n",
    "\n",
    "\n",
    "train_ratio = 0.8\n",
    "data_size = 5000\n",
    "\n",
    "permuted_indices = np.random.permutation(np.array(range(n_rows)))\n",
    "labels=labels[permuted_indices][:data_size]\n",
    "features = features[permuted_indices][:data_size]\n",
    "\n",
    "#data = list(zip(list(features), list(labels)))\n",
    "#print(data)"
   ]
  },
  {
   "cell_type": "code",
   "execution_count": 6,
   "metadata": {},
   "outputs": [
    {
     "data": {
      "text/plain": [
       "(5000,)"
      ]
     },
     "execution_count": 6,
     "metadata": {},
     "output_type": "execute_result"
    }
   ],
   "source": [
    "labels.shape"
   ]
  },
  {
   "cell_type": "code",
   "execution_count": 7,
   "metadata": {},
   "outputs": [],
   "source": [
    "train_data = features[:int(train_ratio*data_size)]\n",
    "val_data = features[int(train_ratio*data_size):]\n",
    "train_labels = labels[:int(train_ratio*data_size)]\n",
    "val_labels = labels[int(train_ratio*data_size):]\n",
    "\n",
    "en = OneHotEncoder(handle_unknown=\"ignore\")\n",
    "train_labels = en.fit_transform(train_labels.reshape((-1,1))).toarray()\n",
    "val_labels = en.transform(val_labels.reshape((-1,1))).toarray()\n",
    "\n",
    "train_data = np.expand_dims(train_data, axis=1)\n",
    "val_data = np.expand_dims(val_data, axis=1)\n",
    "\n",
    "#comment: if one label of the train labels is missing in val labels, it gets a 0-vector as oneHot (=> zero hot :D)"
   ]
  },
  {
   "cell_type": "code",
   "execution_count": 8,
   "metadata": {},
   "outputs": [
    {
     "data": {
      "text/plain": [
       "(1000, 2322)"
      ]
     },
     "execution_count": 8,
     "metadata": {},
     "output_type": "execute_result"
    }
   ],
   "source": [
    "val_labels.shape"
   ]
  },
  {
   "cell_type": "code",
   "execution_count": 9,
   "metadata": {},
   "outputs": [],
   "source": [
    "# Normalize (between [0,1])? or standardize(mean=0, std=1)? for cnn data\n",
    "def standardize(train, test):\n",
    "    train = train.astype(np.float32)\n",
    "    test = test.astype(np.float32)\n",
    "    # Standardize train and test\n",
    "    X_train = (train - np.mean(train, axis=0)[None,:]) / np.std(train, axis=0)[None,:]\n",
    "    X_test = (test - np.mean(test, axis=0)[None,:]) / np.std(test, axis=0)[None,:]\n",
    "\n",
    "    return X_train, X_test"
   ]
  },
  {
   "cell_type": "code",
   "execution_count": 10,
   "metadata": {},
   "outputs": [],
   "source": [
    "train_data, val_data = standardize(train_data, val_data)"
   ]
  },
  {
   "cell_type": "code",
   "execution_count": 11,
   "metadata": {},
   "outputs": [],
   "source": [
    "def batch_data(num_data, batch_size):\n",
    "    \"\"\" Yield batches with indices until epoch is over.\n",
    "    \n",
    "    Parameters\n",
    "    ----------\n",
    "    num_data: int\n",
    "        The number of samples in the dataset.\n",
    "    batch_size: int\n",
    "        The batch size used using training.\n",
    "\n",
    "    Returns\n",
    "    -------\n",
    "    batch_ixs: np.array of ints with shape [batch_size,]\n",
    "        Yields arrays of indices of size of the batch size until the epoch is over.\n",
    "    \"\"\"\n",
    "    \n",
    "    data_ixs = np.random.permutation(np.arange(num_data))\n",
    "    ix = 0\n",
    "    while ix + batch_size < num_data:\n",
    "        batch_ixs = data_ixs[ix:ix+batch_size]\n",
    "        ix += batch_size\n",
    "        yield batch_ixs"
   ]
  },
  {
   "cell_type": "code",
   "execution_count": 12,
   "metadata": {},
   "outputs": [],
   "source": [
    "class CNN:\n",
    "    \"\"\"\n",
    "    Simple feed forward neural network class\n",
    "    \"\"\"\n",
    "    \n",
    "    def __init__(self, name, learning_rate=0.001, l2_reg=0.0):\n",
    "        \"\"\" FeedForwardNet constructor.\n",
    "        \n",
    "        Parameters\n",
    "        ----------\n",
    "        hidden_sizes: list of ints\n",
    "            The sizes of the hidden layers of the network.\n",
    "        name: str\n",
    "            The name of the network (used for a VariableScope)\n",
    "        l2_reg: float\n",
    "            The strength of L2 regularization (0 means no regularization)\n",
    "        \"\"\"\n",
    "        \n",
    "        self.name = name\n",
    "        self.dropout = tf.placeholder_with_default(0.0, shape=(), name=\"dropout\")\n",
    "        self.learning_rate = learning_rate\n",
    "        self.l2_reg = l2_reg\n",
    "        self.weights =[]\n",
    "        self.biases =[]\n",
    "    \n",
    "    def build(self, length, height, num_classes, channels=1):\n",
    "        \"\"\" Construct the model.\n",
    "        \n",
    "        Parameters\n",
    "        ----------\n",
    "        data_dim: int\n",
    "            The dimensions of the data samples.\n",
    "\n",
    "        Returns\n",
    "        -------\n",
    "        None\n",
    "\n",
    "        \"\"\"\n",
    "        self.X = tf.placeholder(shape=[None, channels, height, length], dtype=tf.float32, name=\"data\") #[NxD]\n",
    "        self.Y = tf.placeholder(shape=[None, num_classes], dtype=tf.float32, name=\"labels\") #[Nx1]\n",
    "        with tf.variable_scope(self.name, reuse=tf.AUTO_REUSE):\n",
    "        \n",
    "            hidden = self.X\n",
    "            \n",
    "            # 1,100*300 -> 16,50*150\n",
    "            conv1 = tf.layers.conv2d(inputs=hidden, filters=16, kernel_size=2, strides=1,\n",
    "                padding='same', activation = tf.nn.relu)\n",
    "            max_pool_1 = tf.layers.max_pooling2d(inputs=conv1, pool_size=2, strides=2, padding='same')\n",
    "\n",
    "            # 16,100*100 -> 32,25*75\n",
    "            conv2 = tf.layers.conv2d(inputs=max_pool_1, filters=32, kernel_size=2, strides=1,\n",
    "                padding='same', activation = tf.nn.relu)\n",
    "            max_pool_2 = tf.layers.max_pooling2d(inputs=conv2, pool_size=5, strides=2, padding='same')\n",
    "            \n",
    "            #hidden = tf.reshape(max_pool_2, (-1, 32*5*15))\n",
    "            hidden = tf.contrib.layers.flatten(max_pool_2)\n",
    "\n",
    "\n",
    "            hidden = tf.nn.dropout(hidden, 1-self.dropout)\n",
    "\n",
    "            # Predictions\n",
    "            #hidden = tf.nn.dropout(hidden, 1-self.dropout)\n",
    "            self.logits = tf.layers.dense(hidden, num_classes)\n",
    "\n",
    "            self.cross_entropy_loss = tf.reduce_mean(tf.nn.sigmoid_cross_entropy_with_logits(logits=self.logits,labels=self.Y,name=\"cross_entropy_loss\"))\n",
    "            self.accuracy = tf.reduce_mean(tf.cast(tf.equal(self.logits > 0, tf.cast(self.Y, tf.bool)),tf.float32), name=\"accuracy\")\n",
    "            \n",
    "            self.loss = self.cross_entropy_loss\n",
    "            \n",
    "            self.optimizer = tf.train.AdamOptimizer(learning_rate=self.learning_rate).minimize(self.loss)\n",
    "            \n",
    "        \n",
    "    def train(self, train_data, train_labels, val_data, val_labels, epochs=20, use_batch_gen=True, dropout=0.0, batch_size=512):\n",
    "        \"\"\" Train the feed forward neural network.\n",
    "        \n",
    "        Parameters\n",
    "        ----------\n",
    "        train_data: np.array, dtype float32, shape [N, D]\n",
    "            The training data. N corresponds to the number of training samples, D to the dimensionality of the data samples/\n",
    "        train_labels: np.array, shape [N, K]\n",
    "            The labels of the training data, where K is the number of classes.\n",
    "        val_data: np.array, dtype float32, shape [N_val, D]\n",
    "            The validation data. N_val corresponds to the number of validation samples, D to the dimensionality of the data samples/\n",
    "        val_labels: np.array, shape [N_val, K]\n",
    "            The labels of the training data, where K is the number of classes.\n",
    "        epochs: int\n",
    "            The number of epochs to train for.\n",
    "        dropout: float\n",
    "            The dropout rate used during training. 0 corresponds to no dropout.\n",
    "        batch_size: int\n",
    "            The batch size used for training.\n",
    "\n",
    "        Returns\n",
    "        -------\n",
    "        None\n",
    "\n",
    "        \"\"\"\n",
    "        train_losses = []\n",
    "        train_accs = []\n",
    "        val_losses = []\n",
    "        val_accs = []\n",
    "        \n",
    "        self.session = tf.Session()\n",
    "        session = self.session\n",
    "        \n",
    "        with session.as_default():\n",
    "            session.run(tf.global_variables_initializer())\n",
    "            \n",
    "            tr_loss, tr_acc= session.run([self.loss, self.accuracy], feed_dict={self.X: train_data, self.Y: train_labels})\n",
    "            val_loss, val_acc= session.run([self.loss, self.accuracy], feed_dict={self.X: val_data, self.Y: val_labels})\n",
    "                \n",
    "            train_losses.append(tr_loss)\n",
    "            train_accs.append(tr_acc)\n",
    "            \n",
    "            val_losses.append(val_loss)\n",
    "            val_accs.append(val_acc)\n",
    "            \n",
    "            if use_batch_gen == False:\n",
    "                train = tf.data.Dataset.from_tensor_slices({\"feature\": train_data, \"label\": train_labels})\n",
    "                val = tf.data.Dataset.from_tensor_slices({\"feature\": val_data, \"label\": val_labels})\n",
    "                no_of_batches = int(np.ceil(train_labels.shape[0] / batch_size))\n",
    "            \n",
    "            for epoch in range(epochs):\n",
    "                print(f\"Epoch {epoch+1}/{epochs}\")  \n",
    "                if use_batch_gen:\n",
    "                    for batch_ixs in batch_data(len(train_data), batch_size):\n",
    "                        _ = session.run( self.optimizer, feed_dict={self.X: train_data[batch_ixs], self.Y: train_labels[batch_ixs]})\n",
    "                else:\n",
    "                    train.shuffle(30000)\n",
    "                    batches = train.batch(batch_size)\n",
    "                    iterator = batches.make_one_shot_iterator()\n",
    "                    #iterator = batches.from_structure\n",
    "                    next_element = iterator.get_next()\n",
    "                    for cur_batch in range(no_of_batches):\n",
    "                        data_batch = session.run(next_element)\n",
    "                        _ = session.run(self.optimizer, feed_dict={self.X: data_batch[\"feature\"], self.Y: data_batch[\"label\"]})\n",
    "  \n",
    "                tr_loss, tr_acc= session.run([self.loss, self.accuracy], feed_dict={self.X: train_data, self.Y: train_labels})\n",
    "                val_loss, val_acc= session.run([self.loss, self.accuracy], feed_dict={self.X: val_data, self.Y: val_labels})\n",
    "                train_losses.append(tr_loss)\n",
    "                train_accs.append(tr_acc)\n",
    "\n",
    "                val_losses.append(val_loss)\n",
    "                val_accs.append(val_acc)\n",
    "\n",
    "    \n",
    "        self.hist={'train_loss': np.array(train_losses),\n",
    "           'train_accuracy': np.array(train_accs),\n",
    "           'val_loss': np.array(val_losses),\n",
    "           'val_accuracy': np.array(val_accs), \"epochs_trained\": epoch}"
   ]
  },
  {
   "cell_type": "code",
   "execution_count": 13,
   "metadata": {},
   "outputs": [
    {
     "data": {
      "text/plain": [
       "(4000, 2322)"
      ]
     },
     "execution_count": 13,
     "metadata": {},
     "output_type": "execute_result"
    }
   ],
   "source": [
    "train_labels.shape"
   ]
  },
  {
   "cell_type": "code",
   "execution_count": 14,
   "metadata": {},
   "outputs": [
    {
     "name": "stdout",
     "output_type": "stream",
     "text": [
      "Epoch 1/20\n",
      "Epoch 2/20\n",
      "Epoch 3/20\n",
      "Epoch 4/20\n",
      "Epoch 5/20\n",
      "Epoch 6/20\n",
      "Epoch 7/20\n",
      "Epoch 8/20\n",
      "Epoch 9/20\n",
      "Epoch 10/20\n",
      "Epoch 11/20\n",
      "Epoch 12/20\n",
      "Epoch 13/20\n",
      "Epoch 14/20\n",
      "Epoch 15/20\n",
      "Epoch 16/20\n",
      "Epoch 17/20\n",
      "Epoch 18/20\n",
      "Epoch 19/20\n",
      "Epoch 20/20\n"
     ]
    }
   ],
   "source": [
    "#You can change layer types and the number of neurons by changing the following variables.\n",
    "\n",
    "epochs = 20\n",
    "batch_size = 100\n",
    "\n",
    "\n",
    "model1 = CNN(\"first_model\")\n",
    "model1.build(train_data.shape[3], train_data.shape[2], num_classes=train_labels.shape[1])\n",
    "\n",
    "model1.train(train_data, train_labels, val_data, val_labels, epochs,\n",
    "                          batch_size=batch_size)"
   ]
  },
  {
   "cell_type": "code",
   "execution_count": 19,
   "metadata": {},
   "outputs": [],
   "source": [
    "model1.session.close()"
   ]
  },
  {
   "cell_type": "code",
   "execution_count": 15,
   "metadata": {},
   "outputs": [
    {
     "name": "stdout",
     "output_type": "stream",
     "text": [
      "model 1\n"
     ]
    },
    {
     "data": {
      "image/png": "[encoded data removed]",
      "text/plain": [
       "<Figure size 720x360 with 1 Axes>"
      ]
     },
     "metadata": {
      "needs_background": "light"
     },
     "output_type": "display_data"
    },
    {
     "data": {
      "text/plain": [
       "'\\nprint(\"model 2\")\\nplt.figure(figsize=(10,5))\\nplt.plot(model2.hist[\\'train_loss\\'][5::], label=\"Training\")\\nplt.plot(model2.hist[\\'val_loss\\'][5::], label=\"Validation\")\\n\\nplt.xlabel(\"Epoch\", fontsize=20)\\nplt.ylabel(\"Loss\", fontsize=20)\\nplt.legend()\\nplt.show()\\n'"
      ]
     },
     "execution_count": 15,
     "metadata": {},
     "output_type": "execute_result"
    }
   ],
   "source": [
    "\n",
    "print(\"model 1\")\n",
    "plt.figure(figsize=(10,5))\n",
    "plt.plot(model1.hist['train_loss'][5::], label=\"Training\")\n",
    "plt.plot(model1.hist['val_loss'][5::], label=\"Validation\")\n",
    "\n",
    "plt.xlabel(\"Epoch\", fontsize=20)\n",
    "plt.ylabel(\"Loss\", fontsize=20)\n",
    "plt.legend()\n",
    "plt.show()\n",
    "\"\"\"\n",
    "print(\"model 2\")\n",
    "plt.figure(figsize=(10,5))\n",
    "plt.plot(model2.hist['train_loss'][5::], label=\"Training\")\n",
    "plt.plot(model2.hist['val_loss'][5::], label=\"Validation\")\n",
    "\n",
    "plt.xlabel(\"Epoch\", fontsize=20)\n",
    "plt.ylabel(\"Loss\", fontsize=20)\n",
    "plt.legend()\n",
    "plt.show()\n",
    "\"\"\""
   ]
  },
  {
   "cell_type": "markdown",
   "metadata": {},
   "source": [
    "#### Now plot the training and validation accuracies over the epochs."
   ]
  },
  {
   "cell_type": "code",
   "execution_count": 18,
   "metadata": {},
   "outputs": [
    {
     "name": "stdout",
     "output_type": "stream",
     "text": [
      "model 1\n"
     ]
    },
    {
     "data": {
      "image/png": "[encoded data removed]",
      "text/plain": [
       "<Figure size 720x360 with 1 Axes>"
      ]
     },
     "metadata": {
      "needs_background": "light"
     },
     "output_type": "display_data"
    },
    {
     "data": {
      "text/plain": [
       "'\\nprint(\"model 2\")\\nplt.figure(figsize=(10,5))\\n\\nplt.plot(model2.hist[\\'train_accuracy\\'])\\nplt.plot(model2.hist[\\'val_accuracy\\'])\\n\\nplt.xlabel(\"Epoch\", fontsize=20)\\nplt.ylabel(\"Accuracy\", fontsize=20)\\n\\nplt.show()\\n'"
      ]
     },
     "execution_count": 18,
     "metadata": {},
     "output_type": "execute_result"
    }
   ],
   "source": [
    "print(\"model 1\")\n",
    "plt.figure(figsize=(10,5))\n",
    "\n",
    "plt.plot(model1.hist['train_accuracy'])\n",
    "plt.plot(model1.hist['val_accuracy'])\n",
    "\n",
    "plt.xlabel(\"Epoch\", fontsize=20)\n",
    "plt.ylabel(\"Accuracy\", fontsize=20)\n",
    "\n",
    "plt.show()\n",
    "\"\"\"\n",
    "print(\"model 2\")\n",
    "plt.figure(figsize=(10,5))\n",
    "\n",
    "plt.plot(model2.hist['train_accuracy'])\n",
    "plt.plot(model2.hist['val_accuracy'])\n",
    "\n",
    "plt.xlabel(\"Epoch\", fontsize=20)\n",
    "plt.ylabel(\"Accuracy\", fontsize=20)\n",
    "\n",
    "plt.show()\n",
    "\"\"\""
   ]
  },
  {
   "cell_type": "code",
   "execution_count": null,
   "metadata": {},
   "outputs": [],
   "source": [
    "train_acc_1 = model1.hist['train_accuracy'][-1]\n",
    "val_acc_1 = model1.hist['val_accuracy'][-1]\n",
    "\"\"\"\n",
    "train_acc_2 = model2.hist['train_accuracy'][-1]\n",
    "val_acc_2 = model2.hist['val_accuracy'][-1]\n",
    "\"\"\"\n",
    "print(f\"Training accuracy model 1: {train_acc_1:.3f}\")\n",
    "print(f\"Validation accuracy model 1: {val_acc_1:.3f}\")\n",
    "print()\n",
    "\"\"\"\n",
    "print(f\"Training accuracy model 2: {train_acc_2:.3f}\")\n",
    "print(f\"Validation accuracy model 2: {val_acc_2:.3f}\")\n",
    "print()\n",
    "\"\"\""
   ]
  },
  {
   "cell_type": "markdown",
   "metadata": {},
   "source": [
    "### Plot the losses and accuracies of the models in one plot to compare them."
   ]
  },
  {
   "cell_type": "code",
   "execution_count": null,
   "metadata": {},
   "outputs": [],
   "source": [
    "plt.figure(figsize=(10,5))\n",
    "plt.plot(model1.hist['train_loss'][5::], label=\"Training model 1\",\n",
    "        color=\"darkgreen\")\n",
    "plt.plot(model1.hist['val_loss'][5::], label=\"Validation model 1\",\n",
    "        color=\"darkgreen\", linestyle=\"--\")\n",
    "\"\"\"\n",
    "plt.plot(model2.hist['train_loss'][5::], label=\"Training model 2\",\n",
    "        color=\"royalblue\")\n",
    "plt.plot(model2.hist['val_loss'][5::], label=\"Validation model 2\",\n",
    "        color=\"royalblue\", linestyle=\"--\")\n",
    "\"\"\"\n",
    "plt.xlabel(\"Epoch\", fontsize=20)\n",
    "plt.ylabel(\"Loss\", fontsize=20)\n",
    "plt.legend()\n",
    "plt.show()"
   ]
  },
  {
   "cell_type": "markdown",
   "metadata": {},
   "source": [
    "## Comparing the models\n",
    "Now, compare the final training and validation losses achieved by the different models."
   ]
  },
  {
   "cell_type": "code",
   "execution_count": null,
   "metadata": {},
   "outputs": [],
   "source": [
    "plt.figure(figsize=(10,5))\n",
    "\n",
    "plt.plot(model1.hist['train_accuracy'], label=\"Training model 1\",\n",
    "        color=\"darkgreen\")\n",
    "plt.plot(model1.hist['val_accuracy'], label=\"Validation model 1\",\n",
    "        color=\"darkgreen\", linestyle=\"--\")\n",
    "\n",
    "plt.plot(model2.hist['train_accuracy'], label=\"Training model 2\",\n",
    "        color=\"royalblue\")\n",
    "plt.plot(model2.hist['val_accuracy'], label=\"Validation model 2\",\n",
    "        color=\"royalblue\", linestyle=\"--\")\n",
    "\n",
    "plt.xlabel(\"Epoch\", fontsize=20)\n",
    "plt.ylabel(\"Accuracy\", fontsize=20)\n",
    "plt.legend()\n",
    "plt.show()"
   ]
  },
  {
   "cell_type": "code",
   "execution_count": null,
   "metadata": {},
   "outputs": [],
   "source": [
    "test_preds = NN_dropout_regularization.logits.eval({NN_dropout_regularization.X: test_data},\n",
    "                                        session=NN_dropout_regularization.session).argmax(1)"
   ]
  },
  {
   "cell_type": "code",
   "execution_count": null,
   "metadata": {},
   "outputs": [],
   "source": [
    "train_data = tf.data.Dataset.from_tensor_slices({\"feature\": train_data, \"label\": train_labels})\n",
    "val_data = tf.data.Dataset.from_tensor_slices({\"feature\": val_data, \"label\": val_labels})\n",
    "train_data"
   ]
  },
  {
   "cell_type": "code",
   "execution_count": null,
   "metadata": {},
   "outputs": [],
   "source": [
    "train_data.output_types"
   ]
  },
  {
   "cell_type": "code",
   "execution_count": null,
   "metadata": {},
   "outputs": [],
   "source": [
    "#build batches\n",
    "batch_size = 500\n",
    "train_data.shuffle(30000)\n",
    "batches = dataset.batch(batch_size)"
   ]
  },
  {
   "cell_type": "code",
   "execution_count": null,
   "metadata": {},
   "outputs": [],
   "source": [
    "\n",
    "\n",
    "sess = tf.Session()\n",
    "iterator = batches.make_one_shot_iterator()\n",
    "next_element = iterator.get_next()\n",
    "no_of_batches = int(np.ceil(labels.shape[0] / batch_size))\n",
    "counter = 1\n",
    "for i in tqdm(range(no_of_batches)):\n",
    "    value = sess.run(next_element)\n",
    "    print(value[\"feature\"].shape)\n",
    "    print(counter)\n",
    "    counter+=1\n",
    "\n",
    "sess.close()"
   ]
  }
 ],
 "metadata": {
  "kernelspec": {
   "display_name": "Python 3",
   "language": "python",
   "name": "python3"
  }
 },
 "nbformat": 4,
 "nbformat_minor": 2
}
