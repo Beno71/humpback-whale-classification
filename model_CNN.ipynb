{
 "cells": [
  {
   "cell_type": "markdown",
   "metadata": {},
   "source": [
    "# Hello"
   ]
  },
  {
   "cell_type": "code",
   "execution_count": 1,
   "metadata": {},
   "outputs": [],
   "source": [
    "# Imports\n",
    "import numpy as np\n",
    "import matplotlib.pyplot as plt\n",
    "import tensorflow as tf\n",
    "import time\n",
    "%matplotlib inline\n",
    "\n",
    "from sklearn.preprocessing import OneHotEncoder\n",
    "from IPython.display import clear_output"
   ]
  },
  {
   "cell_type": "markdown",
   "metadata": {},
   "source": [
    "## Load Data"
   ]
  },
  {
   "cell_type": "code",
   "execution_count": 2,
   "metadata": {},
   "outputs": [],
   "source": [
    "#load .npz-file from folder\n",
    "data_folder = \"data/\"\n",
    "loader = np.load(data_folder+\"gray_image_data_xs.npz\")\n",
    "train_data = loader[\"train_features\"]\n",
    "train_labels = loader[\"train_labels\"]\n",
    "val_data = loader[\"val_features\"]\n",
    "val_labels = loader[\"val_labels\"]\n",
    "\n",
    "# one-hot encoding\n",
    "en = OneHotEncoder(handle_unknown=\"ignore\")\n",
    "train_labels = en.fit_transform(train_labels.reshape((-1,1))).toarray()\n",
    "val_labels = en.transform(val_labels.reshape((-1,1))).toarray()\n",
    "\n",
    "train_data = np.expand_dims(train_data, axis=1)\n",
    "val_data = np.expand_dims(val_data, axis=1)"
   ]
  },
  {
   "cell_type": "code",
   "execution_count": 3,
   "metadata": {
    "scrolled": false
   },
   "outputs": [
    {
     "data": {
      "text/plain": [
       "(800, 1, 100, 100)"
      ]
     },
     "execution_count": 3,
     "metadata": {},
     "output_type": "execute_result"
    }
   ],
   "source": [
    "train_data.shape"
   ]
  },
  {
   "cell_type": "code",
   "execution_count": 4,
   "metadata": {},
   "outputs": [
    {
     "data": {
      "text/plain": [
       "(800, 448)"
      ]
     },
     "execution_count": 4,
     "metadata": {},
     "output_type": "execute_result"
    }
   ],
   "source": [
    "train_labels.shape"
   ]
  },
  {
   "cell_type": "code",
   "execution_count": 5,
   "metadata": {},
   "outputs": [],
   "source": [
    "# preprocess (already done hopefully)"
   ]
  },
  {
   "cell_type": "markdown",
   "metadata": {},
   "source": [
    "## Build Model"
   ]
  },
  {
   "cell_type": "code",
   "execution_count": 11,
   "metadata": {},
   "outputs": [],
   "source": [
    "def batch_data(num_data, batch_size):\n",
    "    \"\"\" Yield batches with indices until epoch is over.\n",
    "    \n",
    "    Parameters\n",
    "    ----------\n",
    "    num_data: int\n",
    "        The number of samples in the dataset.\n",
    "    batch_size: int\n",
    "        The batch size used using training.\n",
    "\n",
    "    Returns\n",
    "    -------\n",
    "    batch_ixs: np.array of ints with shape [batch_size,]\n",
    "        Yields arrays of indices of size of the batch size until the epoch is over.\n",
    "    \"\"\"\n",
    "    \n",
    "    data_ixs = np.random.permutation(np.arange(num_data))\n",
    "    ix = 0\n",
    "    while ix + batch_size < num_data:\n",
    "        batch_ixs = data_ixs[ix:ix+batch_size]\n",
    "        ix += batch_size\n",
    "        yield batch_ixs\n",
    "        \n",
    "\n",
    "    \n",
    "\n",
    "class CNN:\n",
    "    \"\"\"\n",
    "    Simple feed forward neural network class\n",
    "    \"\"\"\n",
    "    \n",
    "    def __init__(self, name,learning_rate=0.001, l2_reg=0.0):\n",
    "        \"\"\" FeedForwardNet constructor.\n",
    "        \n",
    "        Parameters\n",
    "        ----------\n",
    "        hidden_sizes: list of ints\n",
    "            The sizes of the hidden layers of the network.\n",
    "        name: str\n",
    "            The name of the network (used for a VariableScope)\n",
    "        l2_reg: float\n",
    "            The strength of L2 regularization (0 means no regularization)\n",
    "        \"\"\"\n",
    "        \n",
    "        self.name = name\n",
    "        self.learning_rate = learning_rate\n",
    "        self.dropout = tf.placeholder_with_default(0.0, shape=(), name=\"dropout\")\n",
    "        self.l2_reg = l2_reg\n",
    "        self.weights =[]\n",
    "        self.biases =[]\n",
    "        \n",
    "        \n",
    "    def make_plot(self):\n",
    "        train_acc_dropoutreg = self.hist['train_accuracy'][-1]\n",
    "        val_acc_dropoutreg = self.hist['val_accuracy'][-1]\n",
    "\n",
    "        print(\"dr:\",f\"{train_acc_dropoutreg:.3f}\",f\"{val_acc_dropoutreg:.3f}\")\n",
    "\n",
    "        print(epochs, batch_size, learning_rate)\n",
    "        print(\"maxacc,minloss at epoch: \", np.argmax(self.hist['val_accuracy']),np.argmin(self.hist['val_loss']),\\\n",
    "              \"acc there: \", self.hist['val_accuracy'][np.argmax(self.hist['val_accuracy'])],\\\n",
    "             self.hist['val_accuracy'][np.argmin(self.hist['val_loss'])])\n",
    "\n",
    "        plt.figure(figsize=(10,5))\n",
    "\n",
    "        plt.plot(self.hist['train_loss'][5::], \n",
    "                 label=\"Training (dropout regularization)\")\n",
    "        plt.plot(self.hist['val_loss'][5::], \n",
    "                 label=\"Validation (dropout regularization)\", linestyle=\"--\")\n",
    "        \n",
    "        plt.xlabel(\"Epoch\", fontsize=20)\n",
    "        plt.ylabel(\"Loss\", fontsize=20)\n",
    "        plt.legend()\n",
    "        plt.show()\n",
    "    \n",
    "    def build(self, length, height, num_classes, channels=1):\n",
    "        \"\"\" Construct the model.\n",
    "        \n",
    "        Parameters\n",
    "        ----------\n",
    "        data_dim: int\n",
    "            The dimensions of the data samples.\n",
    "\n",
    "        Returns\n",
    "        -------\n",
    "        None\n",
    "\n",
    "        \"\"\"\n",
    "        self.X = tf.placeholder(shape=[None, channels, length, height], dtype=tf.float32, name=\"data\") #[NxD]\n",
    "        self.Y = tf.placeholder(shape=[None, num_classes], dtype=tf.float32, name=\"labels\") #[Nx1]\n",
    "    \n",
    "        with tf.variable_scope(self.name):\n",
    "        \n",
    "            hidden = self.X\n",
    "            \n",
    "            # 1,100*100 -> 16,50*50\n",
    "            conv1 = tf.layers.conv2d(inputs=hidden, filters=16, kernel_size=5, strides=1,\n",
    "                padding='same', activation = tf.nn.relu)\n",
    "            max_pool_1 = tf.layers.max_pooling2d(inputs=conv1, pool_size=2, strides=2, padding='same')\n",
    "\n",
    "            # 16,100*100 -> 32,25*25\n",
    "            conv2 = tf.layers.conv2d(inputs=max_pool_1, filters=32, kernel_size=5, strides=1,\n",
    "                padding='same', activation = tf.nn.relu)\n",
    "            max_pool_2 = tf.layers.max_pooling2d(inputs=conv2, pool_size=2, strides=2, padding='same')\n",
    "            \n",
    "            hidden = tf.reshape(max_pool_2, (-1, 32*25))\n",
    "            hidden = tf.nn.dropout(hidden, 1-self.dropout)\n",
    "\n",
    "            # Predictions\n",
    "            #hidden = tf.layers.dense(hidden, 128)\n",
    "            #hidden = tf.nn.dropout(hidden, 1-self.dropout)\n",
    "            self.logits = tf.layers.dense(hidden, num_classes)\n",
    "            \n",
    "            \n",
    "\n",
    "            self.cross_entropy_loss =  tf.reduce_mean(tf.nn.sigmoid_cross_entropy_with_logits(logits=self.logits,labels=self.Y,name=\"cross_entropy_loss\"))\n",
    "            \n",
    "            self.accuracy = tf.reduce_mean(tf.cast(tf.equal(self.logits > 0, tf.cast(self.Y, tf.bool)),tf.float32), name=\"accuracy\")\n",
    "            \n",
    "            self.loss = self.cross_entropy_loss\n",
    "            \n",
    "            self.optimizer = tf.train.AdamOptimizer(learning_rate=self.learning_rate).minimize(self.loss)\n",
    "            \n",
    "        \n",
    "    def train(self, session, train_data, train_labels, val_data, val_labels, epochs=20, dropout=0.0, batch_size=512):\n",
    "        \"\"\" Train the feed forward neural network.\n",
    "        \n",
    "        Parameters\n",
    "        ----------\n",
    "        train_data: np.array, dtype float32, shape [N, D]\n",
    "            The training data. N corresponds to the number of training samples, D to the dimensionality of the data samples/\n",
    "        train_labels: np.array, shape [N, K]\n",
    "            The labels of the training data, where K is the number of classes.\n",
    "        val_data: np.array, dtype float32, shape [N_val, D]\n",
    "            The validation data. N_val corresponds to the number of validation samples, D to the dimensionality of the data samples/\n",
    "        val_labels: np.array, shape [N_val, K]\n",
    "            The labels of the training data, where K is the number of classes.\n",
    "        epochs: int\n",
    "            The number of epochs to train for.\n",
    "        dropout: float\n",
    "            The dropout rate used during training. 0 corresponds to no dropout.\n",
    "        batch_size: int\n",
    "            The batch size used for training.\n",
    "\n",
    "        Returns\n",
    "        -------\n",
    "        None\n",
    "\n",
    "        \"\"\"\n",
    "        train_losses = []\n",
    "        train_accs = []\n",
    "        val_losses = []\n",
    "        val_accs = []\n",
    "        self.dropout = dropout\n",
    "        \n",
    "\n",
    "        self.session = session\n",
    "        \n",
    "        with session.as_default():\n",
    "            session.run(tf.global_variables_initializer())\n",
    "            \n",
    "            tr_loss, tr_acc= session.run([self.loss, self.accuracy], feed_dict={self.X: train_data, self.Y: train_labels})\n",
    "            val_loss, val_acc= session.run([self.loss, self.accuracy], feed_dict={self.X: val_data, self.Y: val_labels})\n",
    "                \n",
    "            train_losses.append(tr_loss)\n",
    "            train_accs.append(tr_acc)\n",
    "            \n",
    "            val_losses.append(val_loss)\n",
    "            val_accs.append(val_acc)\n",
    "                        \n",
    "            for epoch in range(epochs):\n",
    "                if (epoch + 1) % 10 == 0:\n",
    "                    #clear_output()\n",
    "                    print(f\"Epoch {epoch+1}/{epochs}\")\n",
    "                    self.make_plot()\n",
    "                for batch_ixs in batch_data(len(train_data), batch_size):\n",
    "                    ti = time.time()\n",
    "                    _ = session.run( self.optimizer, feed_dict={self.X: train_data[batch_ixs], self.Y: train_labels[batch_ixs]})\n",
    "                    print(\"minibatch step:\", time.time() - ti)\n",
    "                    \n",
    "                tr_loss, tr_acc= session.run([self.loss, self.accuracy], feed_dict={self.X: train_data, self.Y: train_labels})\n",
    "                val_loss, val_acc= session.run([self.loss, self.accuracy], feed_dict={self.X: val_data, self.Y: val_labels})\n",
    "                train_losses.append(tr_loss)\n",
    "                train_accs.append(tr_acc)\n",
    "\n",
    "                val_losses.append(val_loss)\n",
    "                val_accs.append(val_acc)    \n",
    "\n",
    "                \n",
    "                self.hist={'train_loss': np.array(train_losses),\n",
    "           'train_accuracy': np.array(train_accs),\n",
    "           'val_loss': np.array(val_losses),\n",
    "           'val_accuracy': np.array(val_accs)}\n",
    "                "
   ]
  },
  {
   "cell_type": "code",
   "execution_count": 12,
   "metadata": {},
   "outputs": [],
   "source": [
    "# hyperparams\n",
    "epochs = 10\n",
    "batch_size = 64\n",
    "learning_rate = 0.001\n",
    "\n",
    "width, height = 100,100"
   ]
  },
  {
   "cell_type": "code",
   "execution_count": 13,
   "metadata": {},
   "outputs": [
    {
     "name": "stdout",
     "output_type": "stream",
     "text": [
      "minibatch step: 0.20196294784545898\n",
      "minibatch step: 0.09153318405151367\n",
      "minibatch step: 0.08853888511657715\n",
      "minibatch step: 0.09358811378479004\n",
      "minibatch step: 0.07696223258972168\n",
      "minibatch step: 0.07915091514587402\n",
      "minibatch step: 0.08843183517456055\n",
      "minibatch step: 0.08054518699645996\n",
      "minibatch step: 0.07822227478027344\n",
      "minibatch step: 0.08723783493041992\n",
      "minibatch step: 0.0793149471282959\n",
      "minibatch step: 0.0768289566040039\n",
      "minibatch step: 0.0839087963104248\n",
      "minibatch step: 0.07958626747131348\n",
      "minibatch step: 0.07602262496948242\n",
      "minibatch step: 0.08564186096191406\n",
      "minibatch step: 0.07837820053100586\n",
      "minibatch step: 0.07590126991271973\n",
      "minibatch step: 0.09223604202270508\n",
      "minibatch step: 0.07820534706115723\n",
      "minibatch step: 0.07656669616699219\n",
      "minibatch step: 0.08042001724243164\n",
      "minibatch step: 0.08201074600219727\n",
      "minibatch step: 0.0784456729888916\n",
      "minibatch step: 0.09547638893127441\n",
      "minibatch step: 0.08858513832092285\n",
      "minibatch step: 0.07809305191040039\n",
      "minibatch step: 0.1034708023071289\n",
      "minibatch step: 0.12294697761535645\n",
      "minibatch step: 0.12497210502624512\n",
      "minibatch step: 0.08619999885559082\n",
      "minibatch step: 0.08563828468322754\n",
      "minibatch step: 0.09248685836791992\n",
      "minibatch step: 0.0847930908203125\n",
      "minibatch step: 0.09884071350097656\n",
      "minibatch step: 0.17061781883239746\n",
      "minibatch step: 0.09491109848022461\n",
      "minibatch step: 0.08528470993041992\n",
      "minibatch step: 0.0946807861328125\n",
      "minibatch step: 0.14923691749572754\n",
      "minibatch step: 0.09120583534240723\n",
      "minibatch step: 0.07897615432739258\n",
      "minibatch step: 0.08957505226135254\n",
      "minibatch step: 0.07830309867858887\n",
      "minibatch step: 0.07673096656799316\n",
      "minibatch step: 0.08720993995666504\n",
      "minibatch step: 0.09309697151184082\n",
      "minibatch step: 0.11752009391784668\n",
      "minibatch step: 0.1537339687347412\n",
      "minibatch step: 0.13967275619506836\n",
      "minibatch step: 0.12791109085083008\n",
      "minibatch step: 0.08040404319763184\n",
      "minibatch step: 0.17109179496765137\n",
      "minibatch step: 0.08675193786621094\n",
      "minibatch step: 0.07680487632751465\n",
      "minibatch step: 0.0907289981842041\n",
      "minibatch step: 0.15331506729125977\n",
      "minibatch step: 0.11649274826049805\n",
      "minibatch step: 0.13773179054260254\n",
      "minibatch step: 0.1282789707183838\n",
      "minibatch step: 0.12140011787414551\n",
      "minibatch step: 0.12223100662231445\n",
      "minibatch step: 0.1273510456085205\n",
      "minibatch step: 0.12456488609313965\n",
      "minibatch step: 0.0853271484375\n",
      "minibatch step: 0.08924603462219238\n",
      "minibatch step: 0.08344507217407227\n",
      "minibatch step: 0.10108709335327148\n",
      "minibatch step: 0.09596705436706543\n",
      "minibatch step: 0.09521698951721191\n",
      "minibatch step: 0.1451859474182129\n",
      "minibatch step: 0.10782408714294434\n",
      "minibatch step: 0.08981513977050781\n",
      "minibatch step: 0.08695387840270996\n",
      "minibatch step: 0.0787050724029541\n",
      "minibatch step: 0.10238313674926758\n",
      "minibatch step: 0.13102984428405762\n",
      "minibatch step: 0.08915925025939941\n",
      "minibatch step: 0.08632183074951172\n",
      "minibatch step: 0.07768988609313965\n",
      "minibatch step: 0.08660483360290527\n",
      "minibatch step: 0.0801851749420166\n",
      "minibatch step: 0.07816004753112793\n",
      "minibatch step: 0.0874948501586914\n",
      "minibatch step: 0.08137106895446777\n",
      "minibatch step: 0.08016014099121094\n",
      "minibatch step: 0.08450794219970703\n",
      "minibatch step: 0.08585023880004883\n",
      "minibatch step: 0.08044099807739258\n",
      "minibatch step: 0.07922625541687012\n",
      "minibatch step: 0.0859677791595459\n",
      "minibatch step: 0.08149290084838867\n",
      "minibatch step: 0.07626700401306152\n",
      "minibatch step: 0.16813111305236816\n",
      "minibatch step: 0.09240603446960449\n",
      "minibatch step: 0.08535408973693848\n",
      "minibatch step: 0.08788776397705078\n",
      "minibatch step: 0.08010506629943848\n",
      "minibatch step: 0.08603811264038086\n",
      "minibatch step: 0.10414695739746094\n",
      "minibatch step: 0.08611416816711426\n",
      "minibatch step: 0.07982802391052246\n",
      "minibatch step: 0.08811712265014648\n",
      "minibatch step: 0.08448910713195801\n",
      "minibatch step: 0.08429908752441406\n",
      "minibatch step: 0.10776090621948242\n",
      "minibatch step: 0.10007977485656738\n",
      "minibatch step: 0.079010009765625\n",
      "Epoch 10/10\n",
      "dr: 0.998 0.999\n",
      "10 64 0.001\n",
      "maxacc,minloss at epoch:  1 9 acc there:  0.9988839 0.9986942\n"
     ]
    },
    {
     "data": {
      "image/png": "[encoded data removed]",
      "text/plain": [
       "<Figure size 720x360 with 1 Axes>"
      ]
     },
     "metadata": {
      "needs_background": "light"
     },
     "output_type": "display_data"
    },
    {
     "name": "stdout",
     "output_type": "stream",
     "text": [
      "minibatch step: 0.09726166725158691\n",
      "minibatch step: 0.08742403984069824\n",
      "minibatch step: 0.08452892303466797\n",
      "minibatch step: 0.10413908958435059\n",
      "minibatch step: 0.08335614204406738\n",
      "minibatch step: 0.08362126350402832\n",
      "minibatch step: 0.08883213996887207\n",
      "minibatch step: 0.07862281799316406\n",
      "minibatch step: 0.08312201499938965\n",
      "minibatch step: 0.08577823638916016\n",
      "minibatch step: 0.10269808769226074\n",
      "minibatch step: 0.12031316757202148\n",
      "19.70037078857422\n"
     ]
    }
   ],
   "source": [
    "# train model\n",
    "t = time.time()\n",
    "tf.reset_default_graph()\n",
    "with tf.Session() as session:\n",
    "    cnn = CNN(\"dropout_regularization\", learning_rate=learning_rate)\n",
    "    cnn.build(width, height, num_classes=train_labels.shape[1])\n",
    "    cnn.train(session, train_data, train_labels, val_data, val_labels, epochs, batch_size=batch_size, dropout=0.5)\n",
    "    #test_preds_cnn = cnn.logits.eval({cnn.X: test_data}, session=session).argmax(1)\n",
    "print(time.time()-t)"
   ]
  },
  {
   "cell_type": "code",
   "execution_count": 9,
   "metadata": {},
   "outputs": [
    {
     "data": {
      "image/png": "[encoded data removed]",
      "text/plain": [
       "<Figure size 720x360 with 1 Axes>"
      ]
     },
     "metadata": {
      "needs_background": "light"
     },
     "output_type": "display_data"
    }
   ],
   "source": [
    "# evaluate model\n",
    "plt.figure(figsize=(10,5))\n",
    "\n",
    "plt.plot(cnn.hist['train_loss'][5::], \n",
    "         label=\"Training (dropout regularization)\")\n",
    "plt.plot(cnn.hist['val_loss'][5::], \n",
    "         label=\"Validation (dropout regularization)\", linestyle=\"--\")\n",
    "\n",
    "plt.xlabel(\"Epoch\", fontsize=20)\n",
    "plt.ylabel(\"Loss\", fontsize=20)\n",
    "plt.legend()\n",
    "plt.show()"
   ]
  },
  {
   "cell_type": "code",
   "execution_count": 105,
   "metadata": {},
   "outputs": [
    {
     "data": {
      "image/png": "[encoded data removed]",
      "text/plain": [
       "<Figure size 720x360 with 1 Axes>"
      ]
     },
     "metadata": {
      "needs_background": "light"
     },
     "output_type": "display_data"
    }
   ],
   "source": [
    "# Accuracy Plot\n",
    "plt.figure(figsize=(10,5))\n",
    "\n",
    "plt.plot(cnn.hist['train_accuracy'], \n",
    "         label=\"Training (dropout regularization)\", color=\"purple\")\n",
    "plt.plot(cnn.hist['val_accuracy'], \n",
    "         label=\"Validation (dropout regularization)\", color=\"purple\", linestyle=\"--\")\n",
    "\n",
    "plt.xlabel(\"Epoch\", fontsize=20)\n",
    "plt.ylabel(\"Accuracy\", fontsize=20)\n",
    "plt.legend()\n",
    "plt.show()"
   ]
  },
  {
   "cell_type": "code",
   "execution_count": null,
   "metadata": {},
   "outputs": [],
   "source": []
  }
 ],
 "metadata": {
  "kernelspec": {
   "display_name": "Python 3",
   "language": "python",
   "name": "python3"
  },
  "language_info": {
   "codemirror_mode": {
    "name": "ipython",
    "version": 3
   },
   "file_extension": ".py",
   "mimetype": "text/x-python",
   "name": "python",
   "nbconvert_exporter": "python",
   "pygments_lexer": "ipython3",
   "version": "3.6.7"
  }
 },
 "nbformat": 4,
 "nbformat_minor": 2
}
